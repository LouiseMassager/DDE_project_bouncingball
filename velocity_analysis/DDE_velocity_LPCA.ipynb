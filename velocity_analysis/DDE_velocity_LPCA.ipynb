{
 "cells": [
  {
   "cell_type": "markdown",
   "id": "ef79b5d6",
   "metadata": {},
   "source": [
    "# Local PCA applied on the velocity\n",
    "\n",
    "### Objective\n",
    "\n",
    "The velocity of the ball is a piecewise linear function. One possible way to determine the parameters of the system is to use Local PCA.\n",
    "\n",
    "***"
   ]
  },
  {
   "cell_type": "code",
   "execution_count": 1,
   "id": "cc510dea",
   "metadata": {},
   "outputs": [],
   "source": [
    "import matplotlib.pyplot as plt\n",
    "import numpy as np\n",
    "import pandas as pd\n",
    "\n",
    "from sklearn.decomposition import PCA\n",
    "\n",
    "# different clustering methods\n",
    "from sklearn.cluster import KMeans, SpectralClustering, AgglomerativeClustering, DBSCAN, OPTICS\n",
    "from sklearn.mixture import GaussianMixture\n",
    "\n",
    "%matplotlib inline"
   ]
  },
  {
   "cell_type": "markdown",
   "id": "b8aa8e59",
   "metadata": {},
   "source": [
    "## Creating the dataset\n",
    "\n",
    "The data is extracted from a CSV file and processed."
   ]
  },
  {
   "cell_type": "code",
   "execution_count": 2,
   "id": "ce4f3460",
   "metadata": {},
   "outputs": [
    {
     "data": {
      "text/html": [
       "<div>\n",
       "<style scoped>\n",
       "    .dataframe tbody tr th:only-of-type {\n",
       "        vertical-align: middle;\n",
       "    }\n",
       "\n",
       "    .dataframe tbody tr th {\n",
       "        vertical-align: top;\n",
       "    }\n",
       "\n",
       "    .dataframe thead th {\n",
       "        text-align: right;\n",
       "    }\n",
       "</style>\n",
       "<table border=\"1\" class=\"dataframe\">\n",
       "  <thead>\n",
       "    <tr style=\"text-align: right;\">\n",
       "      <th></th>\n",
       "      <th>t</th>\n",
       "      <th>x</th>\n",
       "      <th>y</th>\n",
       "      <th>v</th>\n",
       "    </tr>\n",
       "  </thead>\n",
       "  <tbody>\n",
       "    <tr>\n",
       "      <th>0</th>\n",
       "      <td>0.000000</td>\n",
       "      <td>92</td>\n",
       "      <td>700</td>\n",
       "      <td>0.0</td>\n",
       "    </tr>\n",
       "    <tr>\n",
       "      <th>1</th>\n",
       "      <td>0.041667</td>\n",
       "      <td>91</td>\n",
       "      <td>701</td>\n",
       "      <td>24.0</td>\n",
       "    </tr>\n",
       "    <tr>\n",
       "      <th>2</th>\n",
       "      <td>0.083333</td>\n",
       "      <td>91</td>\n",
       "      <td>700</td>\n",
       "      <td>-24.0</td>\n",
       "    </tr>\n",
       "    <tr>\n",
       "      <th>3</th>\n",
       "      <td>0.125000</td>\n",
       "      <td>92</td>\n",
       "      <td>701</td>\n",
       "      <td>24.0</td>\n",
       "    </tr>\n",
       "    <tr>\n",
       "      <th>4</th>\n",
       "      <td>0.166667</td>\n",
       "      <td>92</td>\n",
       "      <td>702</td>\n",
       "      <td>24.0</td>\n",
       "    </tr>\n",
       "    <tr>\n",
       "      <th>...</th>\n",
       "      <td>...</td>\n",
       "      <td>...</td>\n",
       "      <td>...</td>\n",
       "      <td>...</td>\n",
       "    </tr>\n",
       "    <tr>\n",
       "      <th>84</th>\n",
       "      <td>4.375000</td>\n",
       "      <td>38</td>\n",
       "      <td>4</td>\n",
       "      <td>72.0</td>\n",
       "    </tr>\n",
       "    <tr>\n",
       "      <th>85</th>\n",
       "      <td>4.416667</td>\n",
       "      <td>38</td>\n",
       "      <td>3</td>\n",
       "      <td>-24.0</td>\n",
       "    </tr>\n",
       "    <tr>\n",
       "      <th>86</th>\n",
       "      <td>4.458333</td>\n",
       "      <td>39</td>\n",
       "      <td>2</td>\n",
       "      <td>-24.0</td>\n",
       "    </tr>\n",
       "    <tr>\n",
       "      <th>87</th>\n",
       "      <td>4.500000</td>\n",
       "      <td>39</td>\n",
       "      <td>2</td>\n",
       "      <td>0.0</td>\n",
       "    </tr>\n",
       "    <tr>\n",
       "      <th>88</th>\n",
       "      <td>4.541667</td>\n",
       "      <td>39</td>\n",
       "      <td>1</td>\n",
       "      <td>-24.0</td>\n",
       "    </tr>\n",
       "  </tbody>\n",
       "</table>\n",
       "<p>89 rows × 4 columns</p>\n",
       "</div>"
      ],
      "text/plain": [
       "           t   x    y     v\n",
       "0   0.000000  92  700   0.0\n",
       "1   0.041667  91  701  24.0\n",
       "2   0.083333  91  700 -24.0\n",
       "3   0.125000  92  701  24.0\n",
       "4   0.166667  92  702  24.0\n",
       "..       ...  ..  ...   ...\n",
       "84  4.375000  38    4  72.0\n",
       "85  4.416667  38    3 -24.0\n",
       "86  4.458333  39    2 -24.0\n",
       "87  4.500000  39    2   0.0\n",
       "88  4.541667  39    1 -24.0\n",
       "\n",
       "[89 rows x 4 columns]"
      ]
     },
     "metadata": {},
     "output_type": "display_data"
    }
   ],
   "source": [
    "data = pd.read_csv('velocity_clean.csv', sep=',', header=None)\n",
    "data.columns = [\"t\", \"x\", \"y\", \"v\"]\n",
    "display(data) # t = time, x = horizontal position of the ball, y = height of the ball, v = vertical velocity of the ball\n",
    "#data.head(20)"
   ]
  },
  {
   "cell_type": "code",
   "execution_count": 3,
   "id": "b15a2405",
   "metadata": {},
   "outputs": [],
   "source": [
    "n_init = 8 # number of first samples to be removed\n",
    "n_data = data.shape[0] - n_init # number of samples (=81)"
   ]
  },
  {
   "cell_type": "code",
   "execution_count": 4,
   "id": "987238ee",
   "metadata": {},
   "outputs": [],
   "source": [
    "X = np.zeros((n_data,4))\n",
    "X[:,0] = np.array(data.iloc[n_init:,0]) # time\n",
    "X[:,1] = np.array(data.iloc[n_init:,1]) # horizontal position of the ball\n",
    "X[:,2] = np.array(data.iloc[n_init:,2]) # height of the ball\n",
    "X[:,3] = np.array(data.iloc[n_init:,3]) # velocity of the ball"
   ]
  },
  {
   "cell_type": "code",
   "execution_count": 5,
   "id": "43ba96f8",
   "metadata": {},
   "outputs": [
    {
     "data": {
      "image/png": "[encoded data removed]",
      "text/plain": [
       "<Figure size 432x288 with 1 Axes>"
      ]
     },
     "metadata": {
      "needs_background": "light"
     },
     "output_type": "display_data"
    }
   ],
   "source": [
    "plt.scatter(X[:,0], X[:,3])\n",
    "plt.xlabel('Time [s]', fontsize=11)\n",
    "plt.ylabel('Velocity of the ball [px/s]', fontsize=11)\n",
    "plt.show()"
   ]
  },
  {
   "cell_type": "markdown",
   "id": "8f6f558c",
   "metadata": {},
   "source": [
    "Note that the velocity vector extracted from the CSV file was previously cleaned of outliers in MATLAB.\n",
    "\n",
    "***\n",
    "\n",
    "## Global PCA\n",
    "\n",
    "Applying PCA to the global dataset leads to results that are far from those expected."
   ]
  },
  {
   "cell_type": "code",
   "execution_count": 6,
   "id": "908731d8",
   "metadata": {},
   "outputs": [
    {
     "data": {
      "image/png": "[encoded data removed]",
      "text/plain": [
       "<Figure size 432x288 with 1 Axes>"
      ]
     },
     "metadata": {
      "needs_background": "light"
     },
     "output_type": "display_data"
    },
    {
     "data": {
      "image/png": "[encoded data removed]",
      "text/plain": [
       "<Figure size 432x288 with 1 Axes>"
      ]
     },
     "metadata": {
      "needs_background": "light"
     },
     "output_type": "display_data"
    }
   ],
   "source": [
    "# Center the data\n",
    "X_centered = X - np.mean(X, axis=0) # remove the average of the column ('axis=0')\n",
    "\n",
    "# Create a PCA object and assign data\n",
    "pca = PCA() # n_components=4\n",
    "pca.fit(X_centered)\n",
    "\n",
    "# Select the number of PCs to keep for reconstruction\n",
    "L = pca.explained_variance_ratio_ # = percentage of variance that is attributed to each principal component\n",
    "\n",
    "plt.plot(L)\n",
    "plt.xlabel('Number of the PC', fontsize=11)\n",
    "plt.ylabel('Explained variance ratio', fontsize=11)\n",
    "plt.show()\n",
    "\n",
    "q = 1 # choose to keep only the 1st PC because the contributions of the other PCs are negligible (see graph below)\n",
    "\n",
    "A = pca.components_.T\n",
    "\n",
    "# Encoder: Z = X A\n",
    "Z = X_centered @ A\n",
    "\n",
    "Aq = A[:,:q]\n",
    "Zq = Z[:,:q] # OR Zq = X_centered @ Aq\n",
    "\n",
    "# Decoder: X_reconstructed = Zq Aq.T\n",
    "X_reconstructed = Zq @ Aq.T + np.mean(X, axis=0) # and de-centering the data\n",
    "\n",
    "plt.scatter(X[:,0], X[:,3])\n",
    "plt.scatter(X_reconstructed[:,0], X_reconstructed[:,3]) # plot the reconstruction from Global PCA\n",
    "plt.xlabel('Time [s]', fontsize=11)\n",
    "plt.ylabel('Velocity of the ball [px/s]', fontsize=11)\n",
    "plt.show()"
   ]
  },
  {
   "cell_type": "markdown",
   "id": "cc78aea3",
   "metadata": {},
   "source": [
    "***\n",
    "\n",
    "## Clustering using DBSCAN\n",
    "\n",
    "#### Sources\n",
    "- https://scikit-learn.org/stable/modules/generated/sklearn.cluster.DBSCAN.html\n",
    "- https://towardsdatascience.com/dbscan-clustering-explained-97556a2ad556\n",
    "- https://en.wikipedia.org/wiki/DBSCAN\n",
    "\n",
    "Before clustering, the data must be centered and scaled (since X contains variables of different types)."
   ]
  },
  {
   "cell_type": "code",
   "execution_count": 7,
   "id": "5bb7bf37",
   "metadata": {},
   "outputs": [],
   "source": [
    "ci = np.mean(X, axis=0) # average w.r.t. each variable (= column) => 'axis=0'\n",
    "di = np.std(X, axis=0)  # auto-standard scaling\n",
    "X_std = (X - ci) / di"
   ]
  },
  {
   "cell_type": "markdown",
   "id": "e988c9f1",
   "metadata": {},
   "source": [
    "K-Means minimizes the variances within the clusters (i.e. the squared Euclidean distances). It is very suitable for cloud data, but not in this case.\n",
    "\n",
    "DBSCAN is another clustering method. It stands for \"Density-Based Spatial Clustering of Applications with Noise\" and is able to find arbitrary shaped clusters and clusters with noise (i.e. outliers). The main idea behind DBSCAN is that a point belongs to a cluster if it is close to many points from that cluster.\n",
    "\n",
    "There are two key parameters of DBSCAN:\n",
    "- eps: The distance that specifies the neighborhoods. Two points are considered to be neighbors if the distance between them are less than or equal to eps.\n",
    "- min_samples: Minimum number of data points to define a cluster."
   ]
  },
  {
   "cell_type": "code",
   "execution_count": 8,
   "id": "e3d3bef0",
   "metadata": {},
   "outputs": [
    {
     "name": "stdout",
     "output_type": "stream",
     "text": [
      "Labels:\n",
      "[ 0  0  0  0  0  0  0  0  0  0  0 -1 -1 -1  1  1  1  1  1  1  1  1  1  1\n",
      "  2  2  2  2  2  2 -1  3  3  3  3  3  3  3  3  3  3  3  3  4  4  4  4  4\n",
      "  4  4  4  4  4  4  4  4  4  4  4  4  4  4  4  4  4  4  4  4  4  4  4  4\n",
      "  4  4  4  4  4  4  4  4  4]\n"
     ]
    },
    {
     "data": {
      "image/png": "[encoded data removed]",
      "text/plain": [
       "<Figure size 432x288 with 1 Axes>"
      ]
     },
     "metadata": {
      "needs_background": "light"
     },
     "output_type": "display_data"
    },
    {
     "name": "stdout",
     "output_type": "stream",
     "text": [
      "Number of clusters = 5\n"
     ]
    }
   ],
   "source": [
    "clustering = DBSCAN(eps=0.584, min_samples=3, metric='euclidean') # 0.98 & 5 (3 clusters) or 0.584 & 3 (5 clusters)\n",
    "clustering.fit(X_std)\n",
    "labels = clustering.labels_\n",
    "\n",
    "print(\"Labels:\\n\" + str(labels)) # noisy samples are given the label -1 (in blue in the graph below)\n",
    "\n",
    "plt.scatter(X[:,0], X[:,3], c=labels, cmap='tab20c')\n",
    "plt.xlabel('Time [s]', fontsize=11)\n",
    "plt.ylabel('Velocity of the ball [px/s]', fontsize=11)\n",
    "plt.show()\n",
    "\n",
    "n_clusters = max(labels)+1\n",
    "print(\"Number of clusters = \" + str(n_clusters))"
   ]
  },
  {
   "cell_type": "markdown",
   "id": "819ec048",
   "metadata": {},
   "source": [
    "### Effect of outliers on clustering results\n",
    "\n",
    "In order to observe the effect of data cleaning on clusters, we can use the same clustering method (DBSCAN) with the same parameters on the original uncleaned data."
   ]
  },
  {
   "cell_type": "code",
   "execution_count": 9,
   "id": "d8a1632c",
   "metadata": {},
   "outputs": [
    {
     "data": {
      "image/png": "[encoded data removed]",
      "text/plain": [
       "<Figure size 432x288 with 1 Axes>"
      ]
     },
     "metadata": {
      "needs_background": "light"
     },
     "output_type": "display_data"
    }
   ],
   "source": [
    "t = X[:,0]\n",
    "h = X[:,2]\n",
    "\n",
    "# Compute the velocity from the positions\n",
    "V_vec = np.zeros((n_data,1)) # Initial velocity (index 0) will be zero\n",
    "for i in range(1,n_data):\n",
    "    dh = ( h[i] - h[i-1] ) / ( t[i] - t[i-1] )\n",
    "    V_vec[i] = dh\n",
    "\n",
    "plt.scatter(t, V_vec)\n",
    "plt.xlabel('Time [s]', fontsize=11)\n",
    "plt.ylabel('Velocity of the ball [px/s]', fontsize=11)\n",
    "plt.show()"
   ]
  },
  {
   "cell_type": "code",
   "execution_count": 10,
   "id": "88f82e5d",
   "metadata": {},
   "outputs": [],
   "source": [
    "Y = np.zeros((n_data,4))\n",
    "Y[:,0] = np.array(data.iloc[n_init:,0])\n",
    "Y[:,1] = np.array(data.iloc[n_init:,1])\n",
    "Y[:,2] = np.array(data.iloc[n_init:,2])\n",
    "Y[:,3] = V_vec[:,0]"
   ]
  },
  {
   "cell_type": "code",
   "execution_count": 11,
   "id": "34f4d5d0",
   "metadata": {},
   "outputs": [],
   "source": [
    "# Center and scale the dataset\n",
    "ci = np.mean(Y, axis=0) # average w.r.t. each variable (= column) => 'axis=0'\n",
    "di = np.std(Y, axis=0)  # auto-standard scaling\n",
    "Y_std = (Y - ci) / di"
   ]
  },
  {
   "cell_type": "code",
   "execution_count": 12,
   "id": "d6987475",
   "metadata": {},
   "outputs": [
    {
     "data": {
      "image/png": "[encoded data removed]",
      "text/plain": [
       "<Figure size 432x288 with 1 Axes>"
      ]
     },
     "metadata": {
      "needs_background": "light"
     },
     "output_type": "display_data"
    },
    {
     "name": "stdout",
     "output_type": "stream",
     "text": [
      "Number of clusters = 7\n"
     ]
    }
   ],
   "source": [
    "clustering2 = DBSCAN(eps=0.584, min_samples=3, metric='euclidean') # same parameters as before\n",
    "clustering2.fit(Y_std)\n",
    "labels2 = clustering2.labels_\n",
    "\n",
    "plt.scatter(Y[:,0], Y[:,3], c=labels2, cmap='tab20c')\n",
    "plt.xlabel('Time [s]', fontsize=11)\n",
    "plt.ylabel('Velocity of the ball [px/s]', fontsize=11)\n",
    "plt.show()\n",
    "\n",
    "print(\"Number of clusters = \" + str(max(labels2)+1))"
   ]
  },
  {
   "cell_type": "markdown",
   "id": "8dabc5bd",
   "metadata": {},
   "source": [
    "***\n",
    "\n",
    "## Local PCA\n",
    "\n",
    "Finally, we can apply PCA in each cluster."
   ]
  },
  {
   "cell_type": "code",
   "execution_count": 13,
   "id": "e4bbfef0",
   "metadata": {},
   "outputs": [
    {
     "data": {
      "image/png": "[encoded data removed]",
      "text/plain": [
       "<Figure size 432x288 with 1 Axes>"
      ]
     },
     "metadata": {
      "needs_background": "light"
     },
     "output_type": "display_data"
    }
   ],
   "source": [
    "for i in range(n_clusters): # for each iteration/cluster: apply PCA locally\n",
    "    \n",
    "    # Select only the data of a single cluster (the one with label i)\n",
    "    mask = (labels == i) # return a boolean array (= matrix with True/False)\n",
    "    X_k = X[mask] # store in X_k only the elements for which mask=True\n",
    "    \n",
    "    # Center the data\n",
    "    Xc = X_k - np.mean(X_k, axis=0) # remove the average of the column ('axis=0')\n",
    "    \n",
    "    # Create a PCA object and assign data\n",
    "    pca = PCA()\n",
    "    pca.fit(Xc)\n",
    "    \n",
    "    A = pca.components_.T\n",
    "    Z = Xc @ A # Encode\n",
    "    Aq = A[:,:q]\n",
    "    Zq = Z[:,:q] # OR Zq = Xc @ Aq\n",
    "    X_rec = Zq @ Aq.T + np.mean(X_k, axis=0) # Decode + De-centering the data\n",
    "    \n",
    "    # For each cluster, plot the reconstructed data from LPCA\n",
    "    plt.scatter(X_k[:,0], X_k[:,3], c='b', alpha=0.5)\n",
    "    plt.plot(X_rec[:,0], X_rec[:,3], c='r', alpha=1.0)\n",
    "\n",
    "plt.xlabel('Time [s]', fontsize=11)\n",
    "plt.ylabel('Velocity of the ball [px/s]', fontsize=11)\n",
    "plt.show()"
   ]
  },
  {
   "cell_type": "markdown",
   "id": "f89ff782",
   "metadata": {},
   "source": [
    "***\n",
    "\n",
    "## Parameter estimation\n",
    "\n",
    "From the Local PCA results, the parameters of the system can be estimated. Since the last cluster is poorly approximated by Local PCA, only the four first clusters are considered to estimate the parameters."
   ]
  },
  {
   "cell_type": "code",
   "execution_count": 14,
   "id": "2304ef0f",
   "metadata": {},
   "outputs": [],
   "source": [
    "n_relevant = n_clusters - 1 # number of clusters that are relevant to consider for parameter estimation\n",
    "\n",
    "# Find the beginning and end of each cluster\n",
    "\n",
    "cluster_start = np.zeros((n_relevant,4))\n",
    "cluster_end = np.zeros((n_relevant,4))\n",
    "\n",
    "for i in range(n_relevant):\n",
    "    \n",
    "    # Select only the data of a single cluster (the one with label i)\n",
    "    mask = (labels == i) # return a boolean array (= matrix with True/False)\n",
    "    X_k = X[mask] # store in X_k only the elements for which mask=True\n",
    "    \n",
    "    start = np.where(X_k[:,3] == max(X_k[:,3])) # find the index of the maximum velocity in each cluster\n",
    "    cluster_start[i] = X_k[start,:]\n",
    "    \n",
    "    end = np.where(X_k[:,3] == min(X_k[:,3])) # find the index of the minimum velocity in each cluster\n",
    "    cluster_end[i] = X_k[end,:]"
   ]
  },
  {
   "cell_type": "markdown",
   "id": "8c734025",
   "metadata": {},
   "source": [
    "### Gravity estimation\n",
    "\n",
    "The standard gravity $g$ can be estimated knowing that $-g$ is the slope of the curve of the velocity $v$ with respect to time $t$ (since $v(t) = v_0 - g t$)."
   ]
  },
  {
   "cell_type": "code",
   "execution_count": 15,
   "id": "cb7cd869",
   "metadata": {},
   "outputs": [
    {
     "name": "stdout",
     "output_type": "stream",
     "text": [
      "[[-4560.        ]\n",
      " [-4660.36363636]\n",
      " [-4992.        ]\n",
      " [-4646.4       ]]\n",
      "g = -4714.69090909093 px/s²\n"
     ]
    }
   ],
   "source": [
    "g_vec = np.zeros((n_relevant,1))\n",
    "\n",
    "for j in range(n_relevant):\n",
    "    g_vec[j] = ( cluster_end[j,3] - cluster_start[j,3] ) / ( cluster_end[j,0] - cluster_start[j,0] ) # = dv/dt = -g\n",
    "\n",
    "print(g_vec)\n",
    "\n",
    "g = np.mean(g_vec)\n",
    "print(\"g = \" + str(g) + \" px/s²\")"
   ]
  },
  {
   "cell_type": "markdown",
   "id": "c3cd93bb",
   "metadata": {},
   "source": [
    "### Estimation of the coefficient of restitution\n",
    "\n",
    "The coefficient of restitution $\\rho$ is the ratio between the velocity of the ball just after the bounce and the velocity of the ball just before the bounce."
   ]
  },
  {
   "cell_type": "code",
   "execution_count": 16,
   "id": "5834ce74",
   "metadata": {},
   "outputs": [
    {
     "name": "stdout",
     "output_type": "stream",
     "text": [
      "[0.87368421 0.73493976]\n",
      "rho = 0.8043119847812328\n"
     ]
    }
   ],
   "source": [
    "v0 = max(abs(cluster_start[0,3]),abs(cluster_end[0,3])) # maximum velocity in the 1st cluster\n",
    "v1 = max(abs(cluster_start[1,3]),abs(cluster_end[2,3])) # maximum velocity in the 2nd and 3rd cluster\n",
    "v2 = max(abs(cluster_start[3,3]),abs(cluster_end[3,3])) # maximum velocity in the 4th cluster\n",
    "\n",
    "rho_vec = np.array([v1/v0, v2/v1])\n",
    "print(rho_vec)\n",
    "\n",
    "rho = np.mean(rho_vec)\n",
    "print(\"rho = \" + str(rho))"
   ]
  },
  {
   "cell_type": "markdown",
   "id": "17aa346b",
   "metadata": {},
   "source": [
    "### Validation by comparison with real-world values\n",
    "\n",
    "In the video, the units used for length and time are pixels (px) and seconds (s), respectively. To be able to compare the length values of the video with reality, it is necessary to be able to convert pixels into meters. To do this, since we know the gravity factor in our real world and since the time units are the same in the video and in reality, the lengths can be converted as follows: $L_\\text{meters} = \\frac{9.81}{g} L_\\text{pixels}$, with $g$ the standard gravity (in px) estimated earlier."
   ]
  },
  {
   "cell_type": "code",
   "execution_count": 17,
   "id": "6057a68b",
   "metadata": {},
   "outputs": [
    {
     "name": "stdout",
     "output_type": "stream",
     "text": [
      "h0_real = 1.1471025722406543 m\n",
      "h1_real = 0.8756110382455256 m\n",
      "h2_real = 0.47294943726399263 m\n"
     ]
    }
   ],
   "source": [
    "h0 = 0.5 * v0**2 / g  # initial height in px\n",
    "h0_real = h0 * 9.81/g # actual initial height in meters\n",
    "print(\"h0_real = \" + str(h0_real) + \" m\")\n",
    "\n",
    "h1 = 0.5 * v1**2 / g  # height of the first bounce in px\n",
    "h1_real = h1 * 9.81/g # actual height of the first bounce in meters\n",
    "print(\"h1_real = \" + str(h1_real) + \" m\")\n",
    "\n",
    "h2 = 0.5 * v2**2 / g  # height of the second bounce in px\n",
    "h2_real = h2 * 9.81/g # actual height of the second bounce in meters\n",
    "print(\"h2_real = \" + str(h2_real) + \" m\")"
   ]
  },
  {
   "cell_type": "markdown",
   "id": "4ed16bdc",
   "metadata": {},
   "source": [
    "The heights obtained seem coherent with reality if we roughly estimate the actual heights using the meter visible in the video.\n",
    "\n",
    "As for the value of the coefficient of restitution, the following [site](https://physics.stackexchange.com/questions/256468/model-formula-for-bouncing-ball) estimates it at $\\rho = 0.75$ for a tennis ball, which is quite close to the result obtained here."
   ]
  }
 ],
 "metadata": {
  "kernelspec": {
   "display_name": "Python 3 (ipykernel)",
   "language": "python",
   "name": "python3"
  },
  "language_info": {
   "codemirror_mode": {
    "name": "ipython",
    "version": 3
   },
   "file_extension": ".py",
   "mimetype": "text/x-python",
   "name": "python",
   "nbconvert_exporter": "python",
   "pygments_lexer": "ipython3",
   "version": "3.9.7"
  }
 },
 "nbformat": 4,
 "nbformat_minor": 5
}
