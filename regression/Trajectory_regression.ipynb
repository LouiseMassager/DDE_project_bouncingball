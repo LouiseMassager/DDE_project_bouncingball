{
 "cells": [
  {
   "cell_type": "markdown",
   "id": "3b5d4966",
   "metadata": {},
   "source": [
    "# REGRESSION\n",
    "\n",
    "### idea: use previous an current position (hi-2,hi-1,hi) to predict futur coordinate (hi+1) "
   ]
  },
  {
   "cell_type": "code",
   "execution_count": 43,
   "id": "26110c57",
   "metadata": {},
   "outputs": [
    {
     "name": "stdout",
     "output_type": "stream",
     "text": [
      "            t   x    y\n",
      "0    0.000000  92  192\n",
      "1    0.041667  91  191\n",
      "2    0.083333  91  192\n",
      "3    0.125000  92  191\n",
      "4    0.166667  92  190\n",
      "..        ...  ..  ...\n",
      "105  4.375000  38  890\n",
      "106  4.416667  38  891\n",
      "107  4.458333  39  892\n",
      "108  4.500000  39  892\n",
      "109  4.541667  39  893\n",
      "\n",
      "[110 rows x 3 columns]\n",
      "[[702 703 702]\n",
      " [703 702 703]\n",
      " [702 703 704]\n",
      " [703 704 703]\n",
      " [704 703 703]\n",
      " [703 703 702]\n",
      " [703 702 702]\n",
      " [702 702 700]\n",
      " [702 700 691]\n",
      " [700 691 671]\n",
      " [691 671 639]\n",
      " [671 639 639]\n",
      " [639 639 597]\n",
      " [639 597 542]\n",
      " [597 542 479]\n",
      " [542 479 400]\n",
      " [479 400 313]\n",
      " [400 313 313]\n",
      " [313 313 218]\n",
      " [313 218 107]\n",
      " [218 107   2]\n",
      " [107   2   2]\n",
      " [  2   2  60]\n",
      " [  2  60 139]\n",
      " [ 60 139 211]\n",
      " [139 211 271]\n",
      " [211 271 271]\n",
      " [271 271 322]\n",
      " [271 322 366]\n",
      " [322 366 398]\n",
      " [366 398 418]\n",
      " [398 418 419]\n",
      " [418 419 429]\n",
      " [419 429 431]\n",
      " [429 431 421]\n",
      " [431 421 400]\n",
      " [421 400 400]\n",
      " [400 400 369]\n",
      " [400 369 327]\n",
      " [369 327 274]\n",
      " [327 274 214]\n",
      " [274 214 214]\n",
      " [214 214 141]\n",
      " [214 141  58]\n",
      " [141  58  16]\n",
      " [ 58  16  77]\n",
      " [ 16  77  77]\n",
      " [ 77  77 132]\n",
      " [ 77 132 175]\n",
      " [132 175 202]\n",
      " [175 202 220]\n",
      " [202 220 220]\n",
      " [220 220 228]\n",
      " [220 228 229]\n",
      " [228 229 217]\n",
      " [229 217 195]\n",
      " [217 195 195]\n",
      " [195 195 163]\n",
      " [195 163 121]\n",
      " [163 121  70]\n",
      " [121  70  10]\n",
      " [ 70  10  10]\n",
      " [ 10  10  28]\n",
      " [ 10  28  65]\n",
      " [ 28  65  98]\n",
      " [ 65  98 119]\n",
      " [ 98 119 119]\n",
      " [119 119 131]\n",
      " [119 131 132]\n",
      " [131 132 124]\n",
      " [132 124 105]\n",
      " [124 105 105]\n",
      " [105 105  77]\n",
      " [105  77  39]\n",
      " [ 77  39   1]\n",
      " [ 39   1  31]\n",
      " [  1  31  31]\n",
      " [ 31  31  56]\n",
      " [ 31  56  71]\n",
      " [ 56  71  78]\n",
      " [ 71  78  74]\n",
      " [ 78  74  74]\n",
      " [ 74  74  60]\n",
      " [ 74  60  36]\n",
      " [ 60  36   4]\n",
      " [ 36   4  16]\n",
      " [  4  16  16]\n",
      " [ 16  16  34]\n",
      " [ 16  34  41]\n",
      " [ 34  41  38]\n",
      " [ 41  38  27]\n",
      " [ 38  27  27]\n",
      " [ 27  27   4]\n",
      " [ 27   4   7]\n",
      " [  4   7  19]\n",
      " [  7  19  20]\n",
      " [ 19  20  21]\n",
      " [ 20  21  13]\n",
      " [ 21  13   0]\n",
      " [ 13   0   8]\n",
      " [  0   8   9]\n",
      " [  8   9   9]\n",
      " [  9   9   1]\n",
      " [  9   1   4]\n",
      " [  1   4   3]\n",
      " [  4   3   2]\n",
      " [  3   2   2]]\n",
      "[703 704 703 703 702 702 700 691 671 639 639 597 542 479 400 313 313 218\n",
      " 107   2   2  60 139 211 271 271 322 366 398 418 419 429 431 421 400 400\n",
      " 369 327 274 214 214 141  58  16  77  77 132 175 202 220 220 228 229 217\n",
      " 195 195 163 121  70  10  10  28  65  98 119 119 131 132 124 105 105  77\n",
      "  39   1  31  31  56  71  78  74  74  60  36   4  16  16  34  41  38  27\n",
      "  27   4   7  19  20  21  13   0   8   9   9   1   4   3   2   2   1]\n"
     ]
    }
   ],
   "source": [
    "import pandas as pd\n",
    "import numpy as np\n",
    "import matplotlib.pyplot as plt\n",
    "\n",
    "data = pd.read_csv('data.csv', sep=',') # The entire dataset\n",
    "print(data)\n",
    "\n",
    "hmax=max(np.array(data.iloc[:,2]))\n",
    "         \n",
    "#features\n",
    "him2 =hmax- np.array(data.iloc[:-3,2])\n",
    "him1 = hmax-np.array(data.iloc[1:-2,2])\n",
    "hi = hmax-np.array(data.iloc[2:-1,2]) \n",
    "\n",
    "#label\n",
    "hip1 = hmax-np.array(data.iloc[3:,2]) \n",
    "\n",
    "##\n",
    "X=np.array([him2,him1,hi])# Matrix of the features\n",
    "y=hip1 # Matrix of the target\n",
    "#randmat= np.random.randint(0,2,size=(1,len(y)))\n",
    "\n",
    "X=np.transpose(X)\n",
    "y=np.transpose(y)\n",
    "print(X)\n",
    "print(y)\n",
    "\n",
    "#print(y)\n",
    "#print(data) #print what's in the cancer_data.txt"
   ]
  },
  {
   "cell_type": "code",
   "execution_count": 40,
   "id": "654a2f6e",
   "metadata": {},
   "outputs": [],
   "source": [
    "from sklearn.model_selection import train_test_split #to split data\n",
    "from sklearn.preprocessing import StandardScaler #to center & scale data\n",
    "\n",
    "\n",
    "X_train, X_test,y_train,y_test=train_test_split(X,y,test_size=0.2,random_state=42) #split data\n",
    "\n",
    "scalerX =StandardScaler()\n",
    "X0_train=scalerX.fit_transform(X_train)"
   ]
  },
  {
   "cell_type": "markdown",
   "id": "29eaa60a",
   "metadata": {},
   "source": [
    "# REGRESSION\n",
    "\n",
    "### LEAST SQUARE"
   ]
  },
  {
   "cell_type": "code",
   "execution_count": 41,
   "id": "665a82f0",
   "metadata": {
    "scrolled": true
   },
   "outputs": [
    {
     "data": {
      "image/png": "[encoded data removed]",
      "text/plain": [
       "<Figure size 432x288 with 1 Axes>"
      ]
     },
     "metadata": {
      "needs_background": "light"
     },
     "output_type": "display_data"
    }
   ],
   "source": [
    "from sklearn.linear_model import LinearRegression\n",
    "import matplotlib.pyplot as plt\n",
    "\n",
    "# To do: \n",
    "# - use the function LinearRegression to fit the regression model to the data.\n",
    "# - Plot the predicted values against the observed ones (parity plot).\n",
    "\n",
    "# Hint:\n",
    "# - The function documentation is in: https://scikit-learn.org/stable/modules/generated/sklearn.linear_model.LinearRegression.html\n",
    "# - A simple user guide on the different linear regression models can be found here: https://scikit-learn.org/stable/modules/linear_model.html\n",
    "\n",
    "LS_reg = LinearRegression().fit(X0_train, y_train) #create linear model from X & y\n",
    "#print(LS_reg.score) #if 1 = exist a perfect linear relation\n",
    "\n",
    "X0_test=scalerX.transform(X_test)\n",
    "y_pred = LS_reg.predict(X0_test) #Predict using the linear model.\n",
    "\n",
    "scat=plt.scatter(y_test,y_pred)\n",
    "plt.plot(y_test,y_test, c='r',alpha=0.6)\n",
    "plt.show()"
   ]
  },
  {
   "cell_type": "markdown",
   "id": "f7be589d",
   "metadata": {},
   "source": [
    "### LASSO"
   ]
  },
  {
   "cell_type": "code",
   "execution_count": 52,
   "id": "951963f1",
   "metadata": {},
   "outputs": [
    {
     "data": {
      "image/png": "[encoded data removed]",
      "text/plain": [
       "<Figure size 432x288 with 1 Axes>"
      ]
     },
     "metadata": {
      "needs_background": "light"
     },
     "output_type": "display_data"
    },
    {
     "name": "stdout",
     "output_type": "stream",
     "text": [
      "LS coefficients:[ -17.57198264 -101.1226551   322.91545325]\n",
      "Lasso coefficients:[-31.03813617 -69.56124048 304.47793734]\n",
      "\n",
      "LS weight:204.22081550932012\n",
      "Lasso weight:203.878560689037\n",
      "\n",
      "LS score:0.9832317128922082\n",
      "Lasso score:0.9831405468529009\n",
      "\n"
     ]
    }
   ],
   "source": [
    "from sklearn.linear_model import Lasso\n",
    "\n",
    "#alpha apply lasso if higher than **** and shrinckage else\n",
    "#alpha=0 => same as Least Mean Square\n",
    "#alpha increase => penalise more => make it more sparse \n",
    "\n",
    "\n",
    "alpha=0.1    #to change in order to know which  is best\n",
    "\n",
    "clf = Lasso(alpha)\n",
    "Lasso_reg = clf.fit(X0_train, y_train) #create linear model from X & y\n",
    "#print(LS_reg.score) #if 1 = exist a perfect linear relation\n",
    "\n",
    "X0_test=scalerX.transform(X_test)\n",
    "y_pred = Lasso_reg.predict(X0_test) #Predict using the linear model.\n",
    "\n",
    "\n",
    "scat=plt.scatter(y_test,y_pred)\n",
    "plt.plot(y_test,y_test, c='r',alpha=0.6)\n",
    "plt.show()\n",
    "\n",
    "\n",
    "#### WEIGHTS\n",
    "print('LS coefficients:'+str(LS_reg.coef_))\n",
    "print(\"Lasso coefficients:\"+str(Lasso_reg.coef_)+'\\n')\n",
    "\n",
    "LS_weight=sum(LS_reg.coef_)\n",
    "Lasso_weight=sum(Lasso_reg.coef_)\n",
    "\n",
    "print('LS weight:'+str(LS_weight))\n",
    "print(\"Lasso weight:\"+str(Lasso_weight)+'\\n')\n",
    "\n",
    "#### SCORES\n",
    "LS_score=LS_reg.score(X0_train, y_train)\n",
    "Lasso_score=Lasso_reg.score(X0_train, y_train)\n",
    "\n",
    "print('LS score:'+str(LS_score))\n",
    "print(\"Lasso score:\"+str(Lasso_score)+'\\n')\n",
    "\n",
    "#LASSO has worst score than Least-Square \n",
    "#BUT better because Lasso simpler model since use less features (only 3 non-zero coefficients)\n",
    "#so better than LS for avoiding overfitting,...\n"
   ]
  },
  {
   "cell_type": "markdown",
   "id": "2a7bdb08",
   "metadata": {},
   "source": [
    "### LASSO CV"
   ]
  },
  {
   "cell_type": "code",
   "execution_count": 56,
   "id": "b10ef8f6",
   "metadata": {},
   "outputs": [
    {
     "data": {
      "image/png": "[encoded data removed]",
      "text/plain": [
       "<Figure size 432x288 with 1 Axes>"
      ]
     },
     "metadata": {
      "needs_background": "light"
     },
     "output_type": "display_data"
    },
    {
     "name": "stdout",
     "output_type": "stream",
     "text": [
      "LassoCV alpha: 0.5879536104870301\n",
      "Lasso alpha: 0.1\n"
     ]
    }
   ],
   "source": [
    "from sklearn.linear_model import LassoCV\n",
    "\n",
    "cv=5 #will divide in 5 dataset and trying to find 5 different alpha for better fitting\n",
    "\n",
    "clf = LassoCV(cv=5, random_state=0)\n",
    "LassoCV_reg = clf.fit(X0_train, y_train) #create linear model from X & y\n",
    "\n",
    "X0_test=scalerX.transform(X_test)\n",
    "y_pred = LassoCV_reg.predict(X0_test) #Predict using the linear model.\n",
    "\n",
    "\n",
    "scat=plt.scatter(y_test,y_pred)\n",
    "plt.plot(y_test,y_test, c='r',alpha=0.6)\n",
    "plt.show()\n",
    "\n",
    "alphaCV=clf.alpha_\n",
    "\n",
    "print('LassoCV alpha: '+str(alphaCV))\n",
    "print('Lasso alpha: '+str(alpha))\n",
    "#print(Laget_params(deep=True))\n"
   ]
  },
  {
   "cell_type": "markdown",
   "id": "36d8c9eb",
   "metadata": {},
   "source": [
    "### RIDGE"
   ]
  },
  {
   "cell_type": "code",
   "execution_count": 33,
   "id": "42068efc",
   "metadata": {},
   "outputs": [
    {
     "data": {
      "image/png": "[encoded data removed]",
      "text/plain": [
       "<Figure size 432x288 with 1 Axes>"
      ]
     },
     "metadata": {
      "needs_background": "light"
     },
     "output_type": "display_data"
    },
    {
     "name": "stdout",
     "output_type": "stream",
     "text": [
      "LS coefficients:[ -17.57198264 -101.1226551   322.91545325]\n",
      "RidgeCV coefficients:[-41.4079122  -44.38962528 289.26085008]\n",
      "LassoCV coefficients:[-55.26855376  -0.         258.39420397]\n",
      "\n",
      "LS weight:204.22081550932012\n",
      "RidgeCV weight:203.4633125994847\n",
      "LassoCV weight:203.12565020560731\n",
      "\n",
      "LS score:0.98323\n",
      "RidgeCV score:0.98293\n",
      "LassoCV score:0.98208\n",
      "\n"
     ]
    }
   ],
   "source": [
    "from sklearn.linear_model import RidgeCV\n",
    "\n",
    "clf = RidgeCV(alphas=[1e-3, 1e-2, 1e-1, 1])\n",
    "RidgeCV_reg = clf.fit(X0_train, y_train) #create linear model from X & y\n",
    "\n",
    "X0_test=scalerX.transform(X_test)\n",
    "y_pred = RidgeCV_reg.predict(X0_test) #Predict using the linear model.\n",
    "\n",
    "\n",
    "scat=plt.scatter(y_test,y_pred)\n",
    "plt.plot(y_test,y_test, c='r',alpha=0.6)\n",
    "plt.show()\n",
    "         \n",
    "\n",
    "#### WEIGHTS\n",
    "print('LS coefficients:'+str(LS_reg.coef_))\n",
    "print('RidgeCV coefficients:'+str(RidgeCV_reg.coef_))\n",
    "print(\"LassoCV coefficients:\"+str(LassoCV_reg.coef_)+'\\n')\n",
    "\n",
    "print('LS weight:'+str(sum(LS_reg.coef_)))\n",
    "print('RidgeCV weight:'+str(sum(RidgeCV_reg.coef_)))\n",
    "print(\"LassoCV weight:\"+str(sum(LassoCV_reg.coef_))+'\\n')\n",
    "\n",
    "#### SCORES\n",
    "print('LS score:'+str(np.round(LS_reg.score(X0_train, y_train),5)))\n",
    "print('RidgeCV score:'+str(np.round(RidgeCV_reg.score(X0_train, y_train),5)))\n",
    "print(\"LassoCV score:\"+str(np.round(LassoCV_reg.score(X0_train, y_train),5))+'\\n')\n"
   ]
  },
  {
   "cell_type": "markdown",
   "id": "f42ac91f",
   "metadata": {},
   "source": [
    "# PC"
   ]
  },
  {
   "cell_type": "code",
   "execution_count": 34,
   "id": "48982d1c",
   "metadata": {},
   "outputs": [
    {
     "name": "stdout",
     "output_type": "stream",
     "text": [
      "Explained variance ratio:\n",
      "[9.82737930e-01 1.64607107e-02 8.01358884e-04]\n"
     ]
    },
    {
     "data": {
      "image/png": "[encoded data removed]",
      "text/plain": [
       "<Figure size 432x288 with 1 Axes>"
      ]
     },
     "metadata": {
      "needs_background": "light"
     },
     "output_type": "display_data"
    }
   ],
   "source": [
    "from sklearn.decomposition import PCA\n",
    "\n",
    "pca = PCA() # n_components=64\n",
    "pca.fit(X0_train)\n",
    "\n",
    "print(\"Explained variance ratio:\")\n",
    "evr=pca.explained_variance_ratio_\n",
    "print(evr)\n",
    "#plt.scatter(np.arrange(X0_train.shape[1],evr))\n",
    "plt.plot(pca.explained_variance_ratio_)\n",
    "plt.show()\n",
    "\n",
    "# To do: \n",
    "# - use the function PCA to trasform the feature matrix.\n",
    "# - Plot the explained variance ratio.\n",
    "\n",
    "# Hint:\n",
    "# - The function documentation is in: https://scikit-learn.org/stable/modules/generated/sklearn.decomposition.PCA.html\n"
   ]
  },
  {
   "cell_type": "code",
   "execution_count": 35,
   "id": "2261a17b",
   "metadata": {},
   "outputs": [
    {
     "data": {
      "image/png": "[encoded data removed]",
      "text/plain": [
       "<Figure size 432x288 with 1 Axes>"
      ]
     },
     "metadata": {
      "needs_background": "light"
     },
     "output_type": "display_data"
    },
    {
     "name": "stdout",
     "output_type": "stream",
     "text": [
      "LS score:0.9832317128922082\n",
      "PCR score:0.9912260441203387\n"
     ]
    }
   ],
   "source": [
    "A =pca.components_.T\n",
    "Z_train=X0_train @A\n",
    "Z_test=X0_test @A\n",
    "\n",
    "PCR_reg= LinearRegression().fit(Z_train,y_train)\n",
    "y_pred=PCR_reg.predict(Z_test)\n",
    "\n",
    "scat=plt.scatter(y_test,y_pred)\n",
    "plt.plot(y_test,y_test, c='r',alpha=0.6)\n",
    "plt.show()\n",
    "\n",
    "\n",
    "#### SCORES\n",
    "print('LS score:'+str(LS_reg.score(X0_train, y_train)))\n",
    "print('PCR score:'+str(PCR_reg.score(Z_test, y_test)))\n",
    "\n",
    "#very different weights\n",
    "#PCR has 2 benefits:\n",
    "#    1. features become UNCORROLATED\n",
    "#    2. reduce dimensionnality\n"
   ]
  },
  {
   "cell_type": "code",
   "execution_count": 57,
   "id": "7f3377ac",
   "metadata": {},
   "outputs": [
    {
     "data": {
      "image/png": "[encoded data removed]",
      "text/plain": [
       "<Figure size 432x288 with 1 Axes>"
      ]
     },
     "metadata": {
      "needs_background": "light"
     },
     "output_type": "display_data"
    },
    {
     "name": "stdout",
     "output_type": "stream",
     "text": [
      "LS weight:204.22081550932012\n"
     ]
    }
   ],
   "source": [
    "# - Modify the number of PC scores used in the regression and track the resulting R2 score.\n",
    "q=1\n",
    "A =pca.components_.T\n",
    "Z_train=X0_train @A[:,:q]\n",
    "Z_test=X0_test @A[:,:q]\n",
    "\n",
    "\n",
    "PCR_reg= LinearRegression().fit(Z_train,y_train)\n",
    "y_pred=PCR_reg.predict(Z_test)\n",
    "\n",
    "scat=plt.scatter(y_test,y_pred)\n",
    "plt.plot(y_test,y_test, c='r',alpha=0.6)\n",
    "plt.show()\n",
    "\n",
    "\n",
    "\n",
    "#very different weights\n",
    "#PCR has 2 benefits:\n",
    "#    1. features become UNCORROLATED\n",
    "#    2. reduce dimensionnality\n",
    "\n",
    "print('LS weight:'+str(sum(LS_reg.coef_)))"
   ]
  },
  {
   "cell_type": "code",
   "execution_count": null,
   "id": "79060edf",
   "metadata": {},
   "outputs": [],
   "source": []
  }
 ],
 "metadata": {
  "kernelspec": {
   "display_name": "Python 3 (ipykernel)",
   "language": "python",
   "name": "python3"
  },
  "language_info": {
   "codemirror_mode": {
    "name": "ipython",
    "version": 3
   },
   "file_extension": ".py",
   "mimetype": "text/x-python",
   "name": "python",
   "nbconvert_exporter": "python",
   "pygments_lexer": "ipython3",
   "version": "3.9.7"
  }
 },
 "nbformat": 4,
 "nbformat_minor": 5
}
