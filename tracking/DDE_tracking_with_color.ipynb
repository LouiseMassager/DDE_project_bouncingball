{
 "cells": [
  {
   "cell_type": "code",
   "execution_count": 1,
   "id": "ac015415",
   "metadata": {},
   "outputs": [],
   "source": [
    "import cv2\n",
    "import imutils\n",
    "import time"
   ]
  },
  {
   "cell_type": "code",
   "execution_count": 2,
   "id": "cb92f286",
   "metadata": {},
   "outputs": [],
   "source": [
    "## SETTINGS:\n",
    "cropping=True\n",
    "balltype=2                   #1=tennis 2=small\n",
    "videoname=\"MVI_2010.MOV\"     #put 0 if webcam\n",
    "fps=24"
   ]
  },
  {
   "cell_type": "code",
   "execution_count": 3,
   "id": "dbece45d",
   "metadata": {},
   "outputs": [],
   "source": [
    "## ball choice\n",
    "if balltype==1:\n",
    "    greenLower = (42,85,85)\n",
    "    greenUpper = (212,254,251)\n",
    "elif balltype==2:\n",
    "    greenLower = (36,175,160)\n",
    "    greenUpper = (95,298,250)\n",
    "\n",
    "## to crop\n",
    "if cropping: #for bouncing ball: 0 1200 750 1200\n",
    "    lower= 0\n",
    "    upper= 1200 \n",
    "    left= 750\n",
    "    right= 1200"
   ]
  },
  {
   "cell_type": "code",
   "execution_count": 4,
   "id": "724e11eb",
   "metadata": {},
   "outputs": [],
   "source": [
    "## video treatment\n",
    "vs = cv2.VideoCapture(videoname) \n",
    "time.sleep(2.0)\n",
    "\n",
    "while True:\n",
    "    _, frame = vs.read()\n",
    "\n",
    "    if frame is None:\n",
    "        break\n",
    "    if cropping:\n",
    "        frame = frame[lower:upper,left:right]  \n",
    "    \n",
    "    blurred = cv2.GaussianBlur(frame, (17, 17), 0)\n",
    "    width, height = frame.shape[:2]\n",
    "    hsv = cv2.cvtColor(blurred, cv2.COLOR_BGR2HSV)\n",
    "    mask = cv2.inRange(hsv, greenLower, greenUpper)\n",
    "    mask = cv2.erode(mask, None, iterations=2)\n",
    "    mask = cv2.dilate(mask, None, iterations=2)\n",
    "    cnts = cv2.findContours(mask.copy(), cv2.RETR_EXTERNAL,\n",
    "                            cv2.CHAIN_APPROX_SIMPLE)\n",
    "    cnts = imutils.grab_contours(cnts)\n",
    "    center = None\n",
    "\n",
    "    if len(cnts) > 0:\n",
    "        c = max(cnts, key=cv2.contourArea)\n",
    "        ((x, y), radius) = cv2.minEnclosingCircle(c)\n",
    "        M = cv2.moments(c)\n",
    "        center = (int(M[\"m10\"] / M[\"m00\"]), int(M[\"m01\"] / M[\"m00\"]))\n",
    "\n",
    "        # To see the centroid clearly\n",
    "        if radius > 10:\n",
    "            cv2.circle(frame, (int(x), int(y)), int(radius), (0, 255, 255), 5)\n",
    "            cv2.imwrite(\"circled_frame.png\", cv2.resize(frame, (int(height / 2), int(width / 2))))\n",
    "            cv2.circle(frame, center, 5, (0, 0, 255), -1)\n",
    "            \n",
    "    # resize and show window\n",
    "    resized = cv2.resize(frame, (200,500))\n",
    "    cv2.imshow(\"Frame\", resized)\n",
    "    \n",
    "    #press q to quit\n",
    "    if cv2.waitKey(fps) & 0xFF == ord('q'):\n",
    "        break\n",
    "vs.release()\n",
    "cv2.destroyAllWindows()"
   ]
  }
 ],
 "metadata": {
  "kernelspec": {
   "display_name": "Python 3 (ipykernel)",
   "language": "python",
   "name": "python3"
  },
  "language_info": {
   "codemirror_mode": {
    "name": "ipython",
    "version": 3
   },
   "file_extension": ".py",
   "mimetype": "text/x-python",
   "name": "python",
   "nbconvert_exporter": "python",
   "pygments_lexer": "ipython3",
   "version": "3.9.7"
  }
 },
 "nbformat": 4,
 "nbformat_minor": 5
}
