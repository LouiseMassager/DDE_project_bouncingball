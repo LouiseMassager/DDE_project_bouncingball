{
 "cells": [
  {
   "cell_type": "markdown",
   "id": "3b5d4966",
   "metadata": {},
   "source": [
    "# OUTLIER DETECTION\n",
    "\n",
    "### Source:\n",
    "- [https://machinelearningmastery.com/model-based-outlier-detection-and-removal-in-python/]\n",
    "- [https://scikit-learn.org/stable/modules/outlier_detection]\n"
   ]
  },
  {
   "cell_type": "code",
   "execution_count": 1,
   "id": "bf59436d",
   "metadata": {},
   "outputs": [],
   "source": [
    "import pandas as pd\n",
    "import numpy as np\n",
    "import matplotlib.pyplot as plt"
   ]
  },
  {
   "cell_type": "markdown",
   "id": "278c91c6",
   "metadata": {},
   "source": [
    "## INPUTS"
   ]
  },
  {
   "cell_type": "code",
   "execution_count": 2,
   "id": "26110c57",
   "metadata": {},
   "outputs": [],
   "source": [
    "data = pd.read_csv('data_outlier_1_4.csv', sep=',') \n",
    "# data_outlier_1_4.csv                         => should detect few outliers (they appear only at 1 point in the video)\n",
    "# data_outlier_1_6.csv & data_outlier_2_2.csv => should detect multiple outliers (they appear several times in the video)\n",
    "\n",
    "outlier_contamination_level=0.02    #0.14 for data 1_6 # 0.05 for data 2_2 #0.02 for data 1_4 "
   ]
  },
  {
   "cell_type": "markdown",
   "id": "e22fd785",
   "metadata": {},
   "source": [
    "## DATA TREATMENT"
   ]
  },
  {
   "cell_type": "code",
   "execution_count": 3,
   "id": "5eeee07e",
   "metadata": {},
   "outputs": [
    {
     "name": "stdout",
     "output_type": "stream",
     "text": [
      "            t    x    y\n",
      "0    0.000000   77  262\n",
      "1    0.041667   77  263\n",
      "2    0.083333   77  263\n",
      "3    0.125000   77  263\n",
      "4    0.166667   77  265\n",
      "..        ...  ...  ...\n",
      "181  7.541667  242  900\n",
      "182  7.583333  242  899\n",
      "183  7.625000  242  900\n",
      "184  7.666667  241  899\n",
      "185  7.708333  241  899\n",
      "\n",
      "[186 rows x 3 columns]\n"
     ]
    },
    {
     "data": {
      "text/plain": [
       "array([[0.00000000e+00, 7.70000000e+01, 2.62000000e+02],\n",
       "       [4.16666667e-02, 7.70000000e+01, 2.63000000e+02],\n",
       "       [8.33333333e-02, 7.70000000e+01, 2.63000000e+02],\n",
       "       [1.25000000e-01, 7.70000000e+01, 2.63000000e+02],\n",
       "       [1.66666667e-01, 7.70000000e+01, 2.65000000e+02],\n",
       "       [2.08333333e-01, 7.60000000e+01, 2.65000000e+02],\n",
       "       [2.50000000e-01, 7.60000000e+01, 2.65000000e+02],\n",
       "       [2.91666667e-01, 7.60000000e+01, 2.65000000e+02],\n",
       "       [3.33333333e-01, 7.60000000e+01, 2.65000000e+02],\n",
       "       [3.75000000e-01, 7.70000000e+01, 2.65000000e+02],\n",
       "       [4.16666667e-01, 7.70000000e+01, 2.65000000e+02],\n",
       "       [4.58333333e-01, 7.70000000e+01, 2.65000000e+02],\n",
       "       [5.00000000e-01, 7.70000000e+01, 2.65000000e+02],\n",
       "       [5.41666667e-01, 7.70000000e+01, 2.65000000e+02],\n",
       "       [5.83333333e-01, 7.70000000e+01, 2.65000000e+02],\n",
       "       [6.25000000e-01, 7.80000000e+01, 2.65000000e+02],\n",
       "       [6.66666667e-01, 7.80000000e+01, 2.65000000e+02],\n",
       "       [7.08333333e-01, 7.70000000e+01, 2.65000000e+02],\n",
       "       [7.50000000e-01, 7.80000000e+01, 2.65000000e+02],\n",
       "       [7.91666667e-01, 7.80000000e+01, 2.66000000e+02],\n",
       "       [8.33333333e-01, 7.70000000e+01, 2.66000000e+02],\n",
       "       [8.75000000e-01, 7.80000000e+01, 2.66000000e+02],\n",
       "       [9.16666667e-01, 7.80000000e+01, 2.66000000e+02],\n",
       "       [9.58333333e-01, 7.70000000e+01, 2.65000000e+02],\n",
       "       [1.00000000e+00, 7.70000000e+01, 2.65000000e+02],\n",
       "       [1.04166667e+00, 7.70000000e+01, 2.66000000e+02],\n",
       "       [1.08333333e+00, 7.80000000e+01, 2.67000000e+02],\n",
       "       [1.12500000e+00, 7.80000000e+01, 2.67000000e+02],\n",
       "       [1.16666667e+00, 7.80000000e+01, 2.68000000e+02],\n",
       "       [1.20833333e+00, 7.80000000e+01, 2.68000000e+02],\n",
       "       [1.25000000e+00, 7.70000000e+01, 2.68000000e+02],\n",
       "       [1.29166667e+00, 7.70000000e+01, 2.68000000e+02],\n",
       "       [1.33333333e+00, 7.70000000e+01, 2.68000000e+02],\n",
       "       [1.37500000e+00, 7.70000000e+01, 2.68000000e+02],\n",
       "       [1.41666667e+00, 7.80000000e+01, 2.69000000e+02],\n",
       "       [1.45833333e+00, 7.80000000e+01, 2.70000000e+02],\n",
       "       [1.50000000e+00, 7.90000000e+01, 2.70000000e+02],\n",
       "       [1.54166667e+00, 7.90000000e+01, 2.70000000e+02],\n",
       "       [1.58333333e+00, 7.90000000e+01, 2.70000000e+02],\n",
       "       [1.62500000e+00, 8.00000000e+01, 2.70000000e+02],\n",
       "       [1.66666667e+00, 8.00000000e+01, 2.70000000e+02],\n",
       "       [1.70833333e+00, 8.00000000e+01, 2.69000000e+02],\n",
       "       [1.75000000e+00, 8.00000000e+01, 2.69000000e+02],\n",
       "       [1.79166667e+00, 8.00000000e+01, 2.70000000e+02],\n",
       "       [1.83333333e+00, 8.00000000e+01, 2.70000000e+02],\n",
       "       [1.87500000e+00, 8.00000000e+01, 2.71000000e+02],\n",
       "       [1.91666667e+00, 8.00000000e+01, 2.71000000e+02],\n",
       "       [1.95833333e+00, 8.00000000e+01, 2.71000000e+02],\n",
       "       [2.00000000e+00, 8.00000000e+01, 2.71000000e+02],\n",
       "       [2.04166667e+00, 8.00000000e+01, 2.71000000e+02],\n",
       "       [2.08333333e+00, 8.00000000e+01, 2.71000000e+02],\n",
       "       [2.12500000e+00, 8.00000000e+01, 2.72000000e+02],\n",
       "       [2.16666667e+00, 8.00000000e+01, 2.72000000e+02],\n",
       "       [2.20833333e+00, 8.10000000e+01, 2.79000000e+02],\n",
       "       [2.25000000e+00, 8.30000000e+01, 2.95000000e+02],\n",
       "       [2.29166667e+00, 8.10000000e+01, 3.24000000e+02],\n",
       "       [2.33333333e+00, 7.90000000e+01, 3.64000000e+02],\n",
       "       [2.37500000e+00, 7.90000000e+01, 3.64000000e+02],\n",
       "       [2.41666667e+00, 7.90000000e+01, 4.17000000e+02],\n",
       "       [2.45833333e+00, 7.90000000e+01, 4.77000000e+02],\n",
       "       [2.50000000e+00, 7.80000000e+01, 5.51000000e+02],\n",
       "       [2.54166667e+00, 7.90000000e+01, 6.32000000e+02],\n",
       "       [2.58333333e+00, 7.90000000e+01, 6.32000000e+02],\n",
       "       [2.62500000e+00, 7.50000000e+01, 7.23000000e+02],\n",
       "       [2.66666667e+00, 4.45000000e+02, 2.50000000e+01],\n",
       "       [2.70833333e+00, 4.46000000e+02, 2.50000000e+01],\n",
       "       [2.75000000e+00, 4.45000000e+02, 2.50000000e+01],\n",
       "       [2.79166667e+00, 4.45000000e+02, 2.50000000e+01],\n",
       "       [2.83333333e+00, 8.10000000e+01, 7.29000000e+02],\n",
       "       [2.87500000e+00, 8.50000000e+01, 6.69000000e+02],\n",
       "       [2.91666667e+00, 8.70000000e+01, 6.19000000e+02],\n",
       "       [2.95833333e+00, 9.00000000e+01, 5.79000000e+02],\n",
       "       [3.00000000e+00, 9.00000000e+01, 5.78000000e+02],\n",
       "       [3.04166667e+00, 9.40000000e+01, 5.45000000e+02],\n",
       "       [3.08333333e+00, 9.80000000e+01, 5.25000000e+02],\n",
       "       [3.12500000e+00, 1.01000000e+02, 5.15000000e+02],\n",
       "       [3.16666667e+00, 1.04000000e+02, 5.15000000e+02],\n",
       "       [3.20833333e+00, 1.04000000e+02, 5.15000000e+02],\n",
       "       [3.25000000e+00, 1.08000000e+02, 5.26000000e+02],\n",
       "       [3.29166667e+00, 1.11000000e+02, 5.47000000e+02],\n",
       "       [3.33333333e+00, 1.14000000e+02, 5.79000000e+02],\n",
       "       [3.37500000e+00, 1.17000000e+02, 6.20000000e+02],\n",
       "       [3.41666667e+00, 1.17000000e+02, 6.20000000e+02],\n",
       "       [3.45833333e+00, 1.20000000e+02, 6.77000000e+02],\n",
       "       [3.50000000e+00, 1.23000000e+02, 7.39000000e+02],\n",
       "       [3.54166667e+00, 1.28000000e+02, 8.13000000e+02],\n",
       "       [3.58333333e+00, 1.30000000e+02, 8.88000000e+02],\n",
       "       [3.62500000e+00, 1.29000000e+02, 8.88000000e+02],\n",
       "       [3.66666667e+00, 1.32000000e+02, 8.43000000e+02],\n",
       "       [3.70833333e+00, 1.34000000e+02, 7.87000000e+02],\n",
       "       [3.75000000e+00, 1.37000000e+02, 7.42000000e+02],\n",
       "       [3.79166667e+00, 1.40000000e+02, 7.07000000e+02],\n",
       "       [3.83333333e+00, 1.40000000e+02, 7.07000000e+02],\n",
       "       [3.87500000e+00, 1.41000000e+02, 6.80000000e+02],\n",
       "       [3.91666667e+00, 1.44000000e+02, 6.64000000e+02],\n",
       "       [3.95833333e+00, 1.47000000e+02, 6.58000000e+02],\n",
       "       [4.00000000e+00, 1.50000000e+02, 6.63000000e+02],\n",
       "       [4.04166667e+00, 1.50000000e+02, 6.63000000e+02],\n",
       "       [4.08333333e+00, 1.52000000e+02, 6.78000000e+02],\n",
       "       [4.12500000e+00, 1.55000000e+02, 7.05000000e+02],\n",
       "       [4.16666667e+00, 1.58000000e+02, 7.38000000e+02],\n",
       "       [4.20833333e+00, 1.61000000e+02, 7.83000000e+02],\n",
       "       [4.25000000e+00, 1.61000000e+02, 7.83000000e+02],\n",
       "       [4.29166667e+00, 1.63000000e+02, 8.40000000e+02],\n",
       "       [4.33333333e+00, 1.65000000e+02, 8.88000000e+02],\n",
       "       [4.37500000e+00, 1.66000000e+02, 8.51000000e+02],\n",
       "       [4.41666667e+00, 1.66000000e+02, 8.10000000e+02],\n",
       "       [4.45833333e+00, 1.66000000e+02, 8.09000000e+02],\n",
       "       [4.50000000e+00, 1.69000000e+02, 7.79000000e+02],\n",
       "       [4.54166667e+00, 1.70000000e+02, 7.59000000e+02],\n",
       "       [4.58333333e+00, 1.70000000e+02, 7.49000000e+02],\n",
       "       [4.62500000e+00, 1.72000000e+02, 7.49000000e+02],\n",
       "       [4.66666667e+00, 1.72000000e+02, 7.49000000e+02],\n",
       "       [4.70833333e+00, 1.73000000e+02, 7.59000000e+02],\n",
       "       [4.75000000e+00, 1.75000000e+02, 7.78000000e+02],\n",
       "       [4.79166667e+00, 1.77000000e+02, 8.09000000e+02],\n",
       "       [4.83333333e+00, 1.79000000e+02, 8.53000000e+02],\n",
       "       [4.87500000e+00, 1.78000000e+02, 8.53000000e+02],\n",
       "       [4.91666667e+00, 1.80000000e+02, 8.93000000e+02],\n",
       "       [4.95833333e+00, 1.82000000e+02, 8.62000000e+02],\n",
       "       [5.00000000e+00, 1.84000000e+02, 8.33000000e+02],\n",
       "       [5.04166667e+00, 1.85000000e+02, 8.14000000e+02],\n",
       "       [5.08333333e+00, 1.85000000e+02, 8.14000000e+02],\n",
       "       [5.12500000e+00, 1.87000000e+02, 8.04000000e+02],\n",
       "       [5.16666667e+00, 1.89000000e+02, 8.05000000e+02],\n",
       "       [5.20833333e+00, 1.90000000e+02, 8.16000000e+02],\n",
       "       [5.25000000e+00, 1.93000000e+02, 8.37000000e+02],\n",
       "       [5.29166667e+00, 1.93000000e+02, 8.37000000e+02],\n",
       "       [5.33333333e+00, 1.96000000e+02, 8.69000000e+02],\n",
       "       [5.37500000e+00, 1.96000000e+02, 8.93000000e+02],\n",
       "       [5.41666667e+00, 1.99000000e+02, 8.66000000e+02],\n",
       "       [5.45833333e+00, 2.01000000e+02, 8.47000000e+02],\n",
       "       [5.50000000e+00, 2.01000000e+02, 8.47000000e+02],\n",
       "       [5.54166667e+00, 2.03000000e+02, 8.38000000e+02],\n",
       "       [5.58333333e+00, 2.05000000e+02, 8.39000000e+02],\n",
       "       [5.62500000e+00, 2.07000000e+02, 8.50000000e+02],\n",
       "       [5.66666667e+00, 2.10000000e+02, 8.72000000e+02],\n",
       "       [5.70833333e+00, 2.10000000e+02, 8.72000000e+02],\n",
       "       [5.75000000e+00, 2.12000000e+02, 8.93000000e+02],\n",
       "       [5.79166667e+00, 2.14000000e+02, 8.74000000e+02],\n",
       "       [5.83333333e+00, 2.16000000e+02, 8.63000000e+02],\n",
       "       [5.87500000e+00, 2.18000000e+02, 8.62000000e+02],\n",
       "       [5.91666667e+00, 2.18000000e+02, 8.62000000e+02],\n",
       "       [5.95833333e+00, 2.19000000e+02, 8.70000000e+02],\n",
       "       [6.00000000e+00, 2.22000000e+02, 8.87000000e+02],\n",
       "       [6.04166667e+00, 2.23000000e+02, 8.89000000e+02],\n",
       "       [6.08333333e+00, 2.26000000e+02, 8.79000000e+02],\n",
       "       [6.12500000e+00, 2.26000000e+02, 8.79000000e+02],\n",
       "       [6.16666667e+00, 2.28000000e+02, 8.78000000e+02],\n",
       "       [6.20833333e+00, 2.30000000e+02, 8.85000000e+02],\n",
       "       [6.25000000e+00, 2.33000000e+02, 8.94000000e+02],\n",
       "       [6.29166667e+00, 2.34000000e+02, 8.86000000e+02],\n",
       "       [6.33333333e+00, 2.35000000e+02, 8.85000000e+02],\n",
       "       [6.37500000e+00, 2.34000000e+02, 8.86000000e+02],\n",
       "       [6.41666667e+00, 2.34000000e+02, 8.95000000e+02],\n",
       "       [6.45833333e+00, 2.35000000e+02, 8.92000000e+02],\n",
       "       [6.50000000e+00, 2.36000000e+02, 8.93000000e+02],\n",
       "       [6.54166667e+00, 2.37000000e+02, 8.93000000e+02],\n",
       "       [6.58333333e+00, 2.38000000e+02, 8.97000000e+02],\n",
       "       [6.62500000e+00, 2.38000000e+02, 8.96000000e+02],\n",
       "       [6.66666667e+00, 2.38000000e+02, 8.98000000e+02],\n",
       "       [6.70833333e+00, 2.39000000e+02, 8.98000000e+02],\n",
       "       [6.75000000e+00, 2.39000000e+02, 8.98000000e+02],\n",
       "       [6.79166667e+00, 2.40000000e+02, 8.98000000e+02],\n",
       "       [6.83333333e+00, 2.40000000e+02, 8.99000000e+02],\n",
       "       [6.87500000e+00, 2.41000000e+02, 9.00000000e+02],\n",
       "       [6.91666667e+00, 2.41000000e+02, 9.00000000e+02],\n",
       "       [6.95833333e+00, 2.41000000e+02, 9.00000000e+02],\n",
       "       [7.00000000e+00, 2.41000000e+02, 9.00000000e+02],\n",
       "       [7.04166667e+00, 2.41000000e+02, 8.99000000e+02],\n",
       "       [7.08333333e+00, 2.41000000e+02, 9.00000000e+02],\n",
       "       [7.12500000e+00, 2.41000000e+02, 9.00000000e+02],\n",
       "       [7.16666667e+00, 2.41000000e+02, 9.00000000e+02],\n",
       "       [7.20833333e+00, 2.41000000e+02, 9.00000000e+02],\n",
       "       [7.25000000e+00, 2.40000000e+02, 9.00000000e+02],\n",
       "       [7.29166667e+00, 2.40000000e+02, 9.00000000e+02],\n",
       "       [7.33333333e+00, 2.42000000e+02, 9.00000000e+02],\n",
       "       [7.37500000e+00, 2.42000000e+02, 9.00000000e+02],\n",
       "       [7.41666667e+00, 2.42000000e+02, 9.00000000e+02],\n",
       "       [7.45833333e+00, 2.42000000e+02, 9.00000000e+02],\n",
       "       [7.50000000e+00, 2.42000000e+02, 9.00000000e+02],\n",
       "       [7.54166667e+00, 2.42000000e+02, 9.00000000e+02],\n",
       "       [7.58333333e+00, 2.42000000e+02, 8.99000000e+02],\n",
       "       [7.62500000e+00, 2.42000000e+02, 9.00000000e+02],\n",
       "       [7.66666667e+00, 2.41000000e+02, 8.99000000e+02],\n",
       "       [7.70833333e+00, 2.41000000e+02, 8.99000000e+02]])"
      ]
     },
     "metadata": {},
     "output_type": "display_data"
    }
   ],
   "source": [
    "print(data)\n",
    "hmax=max(np.array(data.iloc[:,2]))\n",
    "         \n",
    "#features\n",
    "t=np.array(data.iloc[:,0])\n",
    "x=np.array(data.iloc[:,1])\n",
    "h=np.array(data.iloc[:,2])\n",
    "X=np.array([t,x,h])\n",
    "X=np.transpose(X)\n",
    "\n",
    "display(X)"
   ]
  },
  {
   "cell_type": "markdown",
   "id": "9602418f",
   "metadata": {},
   "source": [
    "## LOCAL OUTLIER\n",
    "\n",
    "works for data 1_4 but not 1_6"
   ]
  },
  {
   "cell_type": "code",
   "execution_count": 4,
   "id": "e68db618",
   "metadata": {},
   "outputs": [
    {
     "name": "stdout",
     "output_type": "stream",
     "text": [
      "[ 1  1  1  1  1  1  1  1  1  1  1  1  1  1  1  1  1  1  1  1  1  1  1  1\n",
      "  1  1  1  1  1  1  1  1  1  1  1  1  1  1  1  1  1  1  1  1  1  1  1  1\n",
      "  1  1  1  1  1  1  1  1  1  1  1  1  1  1  1  1 -1 -1 -1 -1  1  1  1  1\n",
      "  1  1  1  1  1  1  1  1  1  1  1  1  1  1  1  1  1  1  1  1  1  1  1  1\n",
      "  1  1  1  1  1  1  1  1  1  1  1  1  1  1  1  1  1  1  1  1  1  1  1  1\n",
      "  1  1  1  1  1  1  1  1  1  1  1  1  1  1  1  1  1  1  1  1  1  1  1  1\n",
      "  1  1  1  1  1  1  1  1  1  1  1  1  1  1  1  1  1  1  1  1  1  1  1  1\n",
      "  1  1  1  1  1  1  1  1  1  1  1  1  1  1  1  1  1  1]\n",
      "64\n",
      "[  2.66666667 445.          25.        ]\n",
      "65\n",
      "[  2.70833333 446.          25.        ]\n",
      "66\n",
      "[  2.75 445.    25.  ]\n",
      "67\n",
      "[  2.79166667 445.          25.        ]\n"
     ]
    }
   ],
   "source": [
    "from sklearn.neighbors import LocalOutlierFactor\n",
    "\n",
    "# identify outliers in the training dataset\n",
    "lof = LocalOutlierFactor(contamination=outlier_contamination_level)\n",
    "yhat = lof.fit_predict(X)\n",
    "\n",
    "print(yhat)\n",
    "\n",
    "\n",
    "for i,elem in zip(range(len(yhat)),yhat):\n",
    "    if elem==-1:\n",
    "        print(i)\n",
    "        print(X[i,:])"
   ]
  },
  {
   "cell_type": "code",
   "execution_count": 5,
   "id": "ecdd870d",
   "metadata": {},
   "outputs": [
    {
     "data": {
      "image/png": "[encoded data removed]",
      "text/plain": [
       "<Figure size 432x288 with 1 Axes>"
      ]
     },
     "metadata": {
      "needs_background": "light"
     },
     "output_type": "display_data"
    }
   ],
   "source": [
    "scat = plt.scatter(X[:,0], max(X[:,2])-X[:,2], s=2, c=yhat, cmap= 'prism')\n",
    "\n",
    "plt.xlabel('Time [s]', fontsize=20)\n",
    "plt.ylabel('Height [pixels]', fontsize=20)\n",
    "plt.show()"
   ]
  },
  {
   "cell_type": "markdown",
   "id": "c3b3cfa1",
   "metadata": {},
   "source": [
    "## ELIPTIC ENVELOPE\n",
    "\n",
    "works for data  1_4 and 1_6 (while LocalOutlierFactor don't for 1_6)"
   ]
  },
  {
   "cell_type": "code",
   "execution_count": 6,
   "id": "d7d1bb2c",
   "metadata": {},
   "outputs": [
    {
     "name": "stdout",
     "output_type": "stream",
     "text": [
      "[ 1  1  1  1  1  1  1  1  1  1  1  1  1  1  1  1  1  1  1  1  1  1  1  1\n",
      "  1  1  1  1  1  1  1  1  1  1  1  1  1  1  1  1  1  1  1  1  1  1  1  1\n",
      "  1  1  1  1  1  1  1  1  1  1  1  1  1  1  1  1 -1 -1 -1 -1  1  1  1  1\n",
      "  1  1  1  1  1  1  1  1  1  1  1  1  1  1  1  1  1  1  1  1  1  1  1  1\n",
      "  1  1  1  1  1  1  1  1  1  1  1  1  1  1  1  1  1  1  1  1  1  1  1  1\n",
      "  1  1  1  1  1  1  1  1  1  1  1  1  1  1  1  1  1  1  1  1  1  1  1  1\n",
      "  1  1  1  1  1  1  1  1  1  1  1  1  1  1  1  1  1  1  1  1  1  1  1  1\n",
      "  1  1  1  1  1  1  1  1  1  1  1  1  1  1  1  1  1  1]\n",
      "64\n",
      "[  2.66666667 445.          25.        ]\n",
      "65\n",
      "[  2.70833333 446.          25.        ]\n",
      "66\n",
      "[  2.75 445.    25.  ]\n",
      "67\n",
      "[  2.79166667 445.          25.        ]\n"
     ]
    }
   ],
   "source": [
    "from sklearn.covariance import EllipticEnvelope\n",
    "\n",
    "ee = EllipticEnvelope(contamination=outlier_contamination_level) #0.14 for data 1_6 #0.02 for data 1_4 # 0.05 for data 2_2\n",
    "yhat = ee.fit_predict(X)\n",
    "\n",
    "print(yhat)\n",
    "\n",
    "\n",
    "for i,elem in zip(range(len(yhat)),yhat):\n",
    "    if elem==-1:\n",
    "        print(i)\n",
    "        print(X[i,:])"
   ]
  },
  {
   "cell_type": "code",
   "execution_count": 7,
   "id": "909921bf",
   "metadata": {},
   "outputs": [
    {
     "data": {
      "image/png": "[encoded data removed]",
      "text/plain": [
       "<Figure size 432x288 with 1 Axes>"
      ]
     },
     "metadata": {
      "needs_background": "light"
     },
     "output_type": "display_data"
    }
   ],
   "source": [
    "scat = plt.scatter(X[:,0], max(X[:,2])-X[:,2], s=2, c=yhat, cmap= 'prism')\n",
    "plt.xlabel('Time [s]', fontsize=20)\n",
    "plt.ylabel('Height [pixels]', fontsize=20)\n",
    "plt.show()"
   ]
  },
  {
   "cell_type": "code",
   "execution_count": null,
   "id": "01967905",
   "metadata": {},
   "outputs": [],
   "source": []
  }
 ],
 "metadata": {
  "kernelspec": {
   "display_name": "Python 3 (ipykernel)",
   "language": "python",
   "name": "python3"
  },
  "language_info": {
   "codemirror_mode": {
    "name": "ipython",
    "version": 3
   },
   "file_extension": ".py",
   "mimetype": "text/x-python",
   "name": "python",
   "nbconvert_exporter": "python",
   "pygments_lexer": "ipython3",
   "version": "3.9.7"
  }
 },
 "nbformat": 4,
 "nbformat_minor": 5
}
