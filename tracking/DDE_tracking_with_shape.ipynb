{
 "cells": [
  {
   "cell_type": "markdown",
   "id": "8ced03dd",
   "metadata": {},
   "source": [
    "# Ball tracking with shape\n",
    "\n",
    "### Sources\n",
    "- https://www.youtube.com/watch?v=RaCwLrKuS1w\n",
    "- https://docs.opencv.org/4.x/dd/d43/tutorial_py_video_display.html"
   ]
  },
  {
   "cell_type": "code",
   "execution_count": 1,
   "id": "646a52f9",
   "metadata": {},
   "outputs": [],
   "source": [
    "# Import OpenCV, a software used for Computer Vision\n",
    "import cv2 as cv\n",
    "\n",
    "import numpy as np\n",
    "import pandas as pd\n",
    "import os"
   ]
  },
  {
   "cell_type": "markdown",
   "id": "5a57b719",
   "metadata": {},
   "source": [
    "## Parameters that can be changed"
   ]
  },
  {
   "cell_type": "code",
   "execution_count": 2,
   "id": "0a5aa463",
   "metadata": {},
   "outputs": [],
   "source": [
    "ballType = 1  # 1 = tennis ball, 2 = bouncing ball\n",
    "\n",
    "videoName = \"Videos/ball1_3.mp4\"  # If the argument is set to 0, read the video from the\n",
    "                                                             # webcam. Otherwise, the argument should be the path to\n",
    "                                                             # the video to be read.\n",
    "saveName = \"video.avi\" # name of the video file to store the video\n",
    "dataName = \"data.csv\" # name of the data file to store the extracted coordinates\n",
    "\n",
    "fps = 24  # frames per second\n",
    "\n",
    "cropping = True  # If set to True, the video will be cropped. Otherwise, the video stays in its original state.\n",
    "\n",
    "# default frame dimensions (depend on the camera we use)\n",
    "width = 1920\n",
    "height = 1080\n",
    "\n",
    "# cropping settings\n",
    "if cropping:\n",
    "    lower = 0\n",
    "    upper = 1200\n",
    "    left = 700\n",
    "    right = 1100\n",
    "    \n",
    "    # frame dimensions\n",
    "    width = right - left\n",
    "    height = upper - lower\n",
    "    \n",
    "# ball selection\n",
    "if ballType == 1:  # tennis ball\n",
    "    minrad=20\n",
    "    maxrad=25\n",
    "elif ballType == 2:  # bouncing ball\n",
    "    minrad=10\n",
    "    maxrad=15\n",
    "    "
   ]
  },
  {
   "cell_type": "code",
   "execution_count": 3,
   "id": "7f37ed34",
   "metadata": {},
   "outputs": [
    {
     "name": "stdout",
     "output_type": "stream",
     "text": [
      "ball1_3\n"
     ]
    }
   ],
   "source": [
    "## DATA STORAGE:\n",
    "if videoName[0:7]==\"Videos/\":\n",
    "    storageName=videoName[7:-4] #remove the folder name and format .mp4\n",
    "    print(storageName)\n",
    "\n",
    "path=os.getcwd()+\"/TrackingResults/Shape/\"+str(storageName)\n",
    "\n",
    "isExist = os.path.exists(path)     # Check whether the specified path exists or not\n",
    "if not isExist:                    # Create a new directory because it does not exist\n",
    "    os.makedirs(path)\n",
    "    print(\"The new directory is created!\")\n",
    "f=open(\"TrackingResults/Shape/\"+str(storageName)+\"/parameters.txt\",'w+')\n",
    "f.write(\"cropping \"+str(cropping)+\"\\n\"+\"balltype \"+str(ballType)+\"\\n\"+\"videoname \"+str(videoName)+\"\\n\"+\"fps \"+str(fps)+\"\\n\")\n",
    "f.close()\n",
    "saveName = path+\"/\"+saveName\n",
    "dataName = path+\"/\"+dataName"
   ]
  },
  {
   "cell_type": "markdown",
   "id": "738be449",
   "metadata": {},
   "source": [
    "## Display video with tracking circle & Save video and position data"
   ]
  },
  {
   "cell_type": "code",
   "execution_count": 4,
   "id": "66be7af8",
   "metadata": {},
   "outputs": [
    {
     "name": "stdout",
     "output_type": "stream",
     "text": [
      "frame size = 1920.0 x 1088.0\n"
     ]
    },
    {
     "name": "stderr",
     "output_type": "stream",
     "text": [
      "C:\\Users\\kiwix\\AppData\\Local\\Temp/ipykernel_41368/1256205331.py:16: RuntimeWarning: overflow encountered in ushort_scalars\n",
      "  dist = lambda x1,y1,x2,y2: (x1-x2)**2+(y1-y2)**2 # square distance between points (x1,y1) and (x2,y2)\n"
     ]
    },
    {
     "name": "stdout",
     "output_type": "stream",
     "text": [
      "Can't receive frame (stream end?). Exiting ...\n"
     ]
    }
   ],
   "source": [
    "# create a VideoCapture object to display the video\n",
    "cap = cv.VideoCapture(videoName)\n",
    "\n",
    "print(\"frame size = \" + str(cap.get(cv.CAP_PROP_FRAME_WIDTH)) + \" x \" + str(cap.get(cv.CAP_PROP_FRAME_HEIGHT)))\n",
    "\n",
    "# define the codec and create a VideoWriter object used to record the video\n",
    "fourcc = cv.VideoWriter_fourcc(*'MJPG')\n",
    "out = cv.VideoWriter(saveName, fourcc, fps/2, (width, height)) # specify the output video name (1), the fps (3) and the frame\n",
    "                                                               # size (4)\n",
    "\n",
    "# create arrays to store data\n",
    "x_vec = []\n",
    "y_vec = []\n",
    "\n",
    "prevCircle = None\n",
    "dist = lambda x1,y1,x2,y2: (x1-x2)**2+(y1-y2)**2 # square distance between points (x1,y1) and (x2,y2)\n",
    "\n",
    "if not cap.isOpened():\n",
    "    print(\"Cannot open camera\")\n",
    "    exit()\n",
    "\n",
    "while cap.isOpened():\n",
    "    # Capture frame-by-frame\n",
    "    ret, frame = cap.read()\n",
    "    # If frame is read correctly ret is True.\n",
    "    if not ret:\n",
    "        print(\"Can't receive frame (stream end?). Exiting ...\")\n",
    "        break\n",
    "    \n",
    "    # crop the video to reduce the area for detection\n",
    "    if cropping:\n",
    "        frame = frame[lower:upper, left:right]\n",
    "    \n",
    "    # change the frame from colored to grayscale\n",
    "    grayFrame = cv.cvtColor(frame, cv.COLOR_BGR2GRAY)\n",
    "    \n",
    "    # blur the frame to reduce noise and outliers\n",
    "    blurFrame = cv.GaussianBlur(grayFrame, (17,17), 1) # argument (3) allows to blur more the frame by increasing its value\n",
    "    \n",
    "    # use Hough Circle Transform to detect circles in an image (only in grayscale images)\n",
    "    circles = cv.HoughCircles(blurFrame, cv.HOUGH_GRADIENT, 1.2, 100, param1=90, param2=15, minRadius=minrad, maxRadius=maxrad)\n",
    "    # increasing dp (3) allows for closer circles to be merged\n",
    "    # (4) = minDist between the centers of the detected circles\n",
    "    # (5) = sensitivity of circles detection => higher to detect less circles\n",
    "    # use (6) to set the min edges to say it is a circle => higher to detect less\n",
    "    \n",
    "    if circles is not None:\n",
    "        \n",
    "        circles = np.uint16(np.around(circles))\n",
    "        chosen = None\n",
    "        \n",
    "        for i in circles[0,:]:\n",
    "            \n",
    "            if chosen is None:\n",
    "                chosen = i\n",
    "            \n",
    "            if prevCircle is not None:\n",
    "                if dist(chosen[0], chosen[1], prevCircle[0], prevCircle[1]) <= dist(i[0], i[1], prevCircle[0], prevCircle[1]):\n",
    "                    chosen = i\n",
    "        \n",
    "        cv.circle(frame, (chosen[0], chosen[1]), 1, (0, 100, 100), 3) # draw circle center\n",
    "        cv.circle(frame, (chosen[0], chosen[1]), chosen[2], (255, 0, 255), 3) # draw circle (chosen[2] = radius)\n",
    "        prevCircle = chosen\n",
    "    \n",
    "        # store the ball center position in the arrays\n",
    "        x_vec.append(chosen[0])\n",
    "        y_vec.append(chosen[1])\n",
    "    \n",
    "    # change the frame size which will be recorded\n",
    "    frame = cv.resize(frame, (width, height), fx=0, fy=0, interpolation = cv.INTER_CUBIC)\n",
    "    # record frame\n",
    "    out.write(frame)\n",
    "    \n",
    "    # change the frame size which will be displayed\n",
    "    frame = cv.resize(frame, (300,750))\n",
    "    # display the resulting frame\n",
    "    cv.imshow(\"Frame\", frame)\n",
    "    \n",
    "    # press Q to stop the video\n",
    "    if cv.waitKey(fps*2) & 0xFF == ord('q'): # change argument of cv.waitKey() for slow motion\n",
    "        break\n",
    "    \n",
    "# save the storing arrays in a csv file\n",
    "df = pd.DataFrame({\"x\": x_vec, \"y\": y_vec})\n",
    "df.to_csv(dataName, mode=\"w\", index=False, sep=',')\n",
    "\n",
    "# Release everything when job is finished\n",
    "cap.release() # stop displaying video\n",
    "out.release() # stop recording\n",
    "\n",
    "cv.destroyAllWindows()"
   ]
  }
 ],
 "metadata": {
  "kernelspec": {
   "display_name": "Python 3 (ipykernel)",
   "language": "python",
   "name": "python3"
  },
  "language_info": {
   "codemirror_mode": {
    "name": "ipython",
    "version": 3
   },
   "file_extension": ".py",
   "mimetype": "text/x-python",
   "name": "python",
   "nbconvert_exporter": "python",
   "pygments_lexer": "ipython3",
   "version": "3.9.7"
  }
 },
 "nbformat": 4,
 "nbformat_minor": 5
}
