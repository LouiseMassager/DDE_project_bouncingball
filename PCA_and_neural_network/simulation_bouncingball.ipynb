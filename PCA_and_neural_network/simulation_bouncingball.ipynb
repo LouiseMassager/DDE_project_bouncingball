{
 "cells": [
  {
   "cell_type": "code",
   "execution_count": 1,
   "id": "b5df5856",
   "metadata": {},
   "outputs": [],
   "source": [
    "#resources used:\n",
    "#https://physics.stackexchange.com/questions/256468/model-formula-for-bouncing-ball?fbclid=IwAR08NEEWvyamCWin8M1QmPf9fvQtUlCt6zIcuGO4-bL9WBlARNPnomvcONE\n",
    "#https://thepythoncodingbook.com/2021/08/19/simulating-a-bouncing-ball-in-python/"
   ]
  },
  {
   "cell_type": "code",
   "execution_count": 2,
   "id": "f4b4e10b",
   "metadata": {},
   "outputs": [],
   "source": [
    "from math import sqrt\n",
    "import matplotlib.pyplot as plt\n",
    "import os\n",
    "import turtle\n",
    "import time"
   ]
  },
  {
   "cell_type": "code",
   "execution_count": 3,
   "id": "73565893",
   "metadata": {},
   "outputs": [],
   "source": [
    "## SETTINGS\n",
    "h0 = 5         # m/s\n",
    "v = 1          # m/s, current velocity\n",
    "g = 9.81         # m/s/s\n",
    "rho = 0.75     # coefficient of restitution\n",
    "tau = 0.1     # contact time for bounce"
   ]
  },
  {
   "cell_type": "code",
   "execution_count": 4,
   "id": "c1c0bd92",
   "metadata": {},
   "outputs": [],
   "source": [
    "## INITIALIZATION:\n",
    "t = 0                            # starting time\n",
    "dt = 0.001                       # time step\n",
    "hmax = h0                        # keep track of the maximum height\n",
    "h = h0\n",
    "hstop = 0.01                     # stop when bounce is less than 1 cm\n",
    "freefall = True                  # state: freefall or in contact\n",
    "t_last = -sqrt(2*h0/g)           # time we would have launched to get to h0 at t=0\n",
    "vmax = sqrt(2 * hmax * g)\n",
    "H = []\n",
    "T = []"
   ]
  },
  {
   "cell_type": "code",
   "execution_count": 5,
   "id": "14a496c4",
   "metadata": {},
   "outputs": [
    {
     "name": "stdout",
     "output_type": "stream",
     "text": [
      "The new directory is created!\n"
     ]
    },
    {
     "data": {
      "text/plain": [
       "32"
      ]
     },
     "execution_count": 5,
     "metadata": {},
     "output_type": "execute_result"
    }
   ],
   "source": [
    "## DATA STORAGE:\n",
    "name=\"h\"+str(h0)+\"v\"+str(v)+\"g\"+str(g)+\"rho\"+str(rho)+\"tau\"+str(tau)\n",
    "path=os.getcwd()+\"/SimulationResults/\"+name\n",
    "\n",
    "isExist = os.path.exists(path)          # Check whether the specified path exists or not\n",
    "if not isExist:                         # Create a new directory because it does not exist\n",
    "    os.makedirs(path)\n",
    "    print(\"The new directory is created!\")\n",
    "f=open(\"SimulationResults/\"+name+\"/data\",'w+')\n",
    "f.write(\"h \"+str(h0)+\"\\n\"+\"v \"+str(v)+\"\\n\"+\"g \"+str(g)+\"\\n\"+\"rho \"+str(rho)+\"\\n\"+\"tau \"+str(tau)+\"\\n\")"
   ]
  },
  {
   "cell_type": "code",
   "execution_count": 6,
   "id": "96bf3ec5",
   "metadata": {},
   "outputs": [],
   "source": [
    "## SIMULATION VISUALISATION\n",
    "width = 600\n",
    "height = 500\n",
    "window = turtle.Screen()\n",
    "window.setup(width, height)\n",
    "window.tracer(0)\n",
    "ball = turtle.Turtle()\n",
    "ball.penup()\n",
    "ball.color(\"green\")\n",
    "ball.shape(\"circle\")"
   ]
  },
  {
   "cell_type": "code",
   "execution_count": 7,
   "id": "c85f8881",
   "metadata": {},
   "outputs": [
    {
     "name": "stdout",
     "output_type": "stream",
     "text": [
      "stopped bouncing at t=7.826\n",
      "\n"
     ]
    },
    {
     "data": {
      "image/png": "[encoded data removed]",
      "text/plain": [
       "<Figure size 432x288 with 1 Axes>"
      ]
     },
     "metadata": {
      "needs_background": "light"
     },
     "output_type": "display_data"
    }
   ],
   "source": [
    "## SIMULATION\n",
    "while(hmax > hstop):\n",
    "  if(freefall):\n",
    "    hnew = h + v*dt - 0.5*g*dt*dt\n",
    "    if(hnew<0):\n",
    "      t = t_last + 2*sqrt(2*hmax/g)\n",
    "      freefall = False\n",
    "      t_last = t + tau\n",
    "      h = 0\n",
    "    else:\n",
    "      t = t + dt\n",
    "      v = v - g*dt\n",
    "      h = hnew\n",
    "  else:\n",
    "    t = t + tau\n",
    "    vmax = vmax * rho\n",
    "    v = vmax\n",
    "    freefall = True\n",
    "    h = 0\n",
    "  ####\n",
    "  ball.sety(h*80-200)\n",
    "  window.update()\n",
    "  a=1\n",
    "  for i in range(5000):\n",
    "      a=a^i\n",
    "  ####\n",
    "  hmax = 0.5*vmax*vmax/g\n",
    "  f.write(str(t)+\" \"+str(h)+\"\\n\")\n",
    "  H.append(h)\n",
    "  T.append(t)\n",
    "f.close()\n",
    "turtle.bye()\n",
    "print(\"stopped bouncing at t=%.3f\\n\"%(t))\n",
    "\n",
    "time.sleep(1)\n",
    "plt.figure()\n",
    "plt.plot(T, H)\n",
    "plt.xlabel('time')\n",
    "plt.ylabel('height')\n",
    "plt.title('bouncing ball')\n",
    "plt.savefig(\"SimulationResults/\"+name+\"/\"+\"figure\"+\".png\")#+\"/image{}.png\".format(filenumber))"
   ]
  }
 ],
 "metadata": {
  "kernelspec": {
   "display_name": "Python 3 (ipykernel)",
   "language": "python",
   "name": "python3"
  },
  "language_info": {
   "codemirror_mode": {
    "name": "ipython",
    "version": 3
   },
   "file_extension": ".py",
   "mimetype": "text/x-python",
   "name": "python",
   "nbconvert_exporter": "python",
   "pygments_lexer": "ipython3",
   "version": "3.9.7"
  }
 },
 "nbformat": 4,
 "nbformat_minor": 5
}
